{
 "cells": [
  {
   "cell_type": "markdown",
   "metadata": {},
   "source": [
    "### Note\n",
    "* Instructions have been included for each segment. You do not have to follow them exactly, but they are included to help you think through the steps."
   ]
  },
  {
   "cell_type": "code",
   "execution_count": 4,
   "metadata": {},
   "outputs": [
    {
     "output_type": "execute_result",
     "data": {
      "text/plain": [
       "   Student ID       student_name gender grade        school_name  \\\n",
       "0           0       Paul Bradley      M   9th  Huang High School   \n",
       "1           1       Victor Smith      M  12th  Huang High School   \n",
       "2           2    Kevin Rodriguez      M  12th  Huang High School   \n",
       "3           3  Dr. Richard Scott      M  12th  Huang High School   \n",
       "4           4         Bonnie Ray      F   9th  Huang High School   \n",
       "\n",
       "   reading_score  math_score  School ID      type  size   budget  \n",
       "0             66          79          0  District  2917  1910635  \n",
       "1             94          61          0  District  2917  1910635  \n",
       "2             90          60          0  District  2917  1910635  \n",
       "3             67          58          0  District  2917  1910635  \n",
       "4             97          84          0  District  2917  1910635  "
      ],
      "text/html": "<div>\n<style scoped>\n    .dataframe tbody tr th:only-of-type {\n        vertical-align: middle;\n    }\n\n    .dataframe tbody tr th {\n        vertical-align: top;\n    }\n\n    .dataframe thead th {\n        text-align: right;\n    }\n</style>\n<table border=\"1\" class=\"dataframe\">\n  <thead>\n    <tr style=\"text-align: right;\">\n      <th></th>\n      <th>Student ID</th>\n      <th>student_name</th>\n      <th>gender</th>\n      <th>grade</th>\n      <th>school_name</th>\n      <th>reading_score</th>\n      <th>math_score</th>\n      <th>School ID</th>\n      <th>type</th>\n      <th>size</th>\n      <th>budget</th>\n    </tr>\n  </thead>\n  <tbody>\n    <tr>\n      <th>0</th>\n      <td>0</td>\n      <td>Paul Bradley</td>\n      <td>M</td>\n      <td>9th</td>\n      <td>Huang High School</td>\n      <td>66</td>\n      <td>79</td>\n      <td>0</td>\n      <td>District</td>\n      <td>2917</td>\n      <td>1910635</td>\n    </tr>\n    <tr>\n      <th>1</th>\n      <td>1</td>\n      <td>Victor Smith</td>\n      <td>M</td>\n      <td>12th</td>\n      <td>Huang High School</td>\n      <td>94</td>\n      <td>61</td>\n      <td>0</td>\n      <td>District</td>\n      <td>2917</td>\n      <td>1910635</td>\n    </tr>\n    <tr>\n      <th>2</th>\n      <td>2</td>\n      <td>Kevin Rodriguez</td>\n      <td>M</td>\n      <td>12th</td>\n      <td>Huang High School</td>\n      <td>90</td>\n      <td>60</td>\n      <td>0</td>\n      <td>District</td>\n      <td>2917</td>\n      <td>1910635</td>\n    </tr>\n    <tr>\n      <th>3</th>\n      <td>3</td>\n      <td>Dr. Richard Scott</td>\n      <td>M</td>\n      <td>12th</td>\n      <td>Huang High School</td>\n      <td>67</td>\n      <td>58</td>\n      <td>0</td>\n      <td>District</td>\n      <td>2917</td>\n      <td>1910635</td>\n    </tr>\n    <tr>\n      <th>4</th>\n      <td>4</td>\n      <td>Bonnie Ray</td>\n      <td>F</td>\n      <td>9th</td>\n      <td>Huang High School</td>\n      <td>97</td>\n      <td>84</td>\n      <td>0</td>\n      <td>District</td>\n      <td>2917</td>\n      <td>1910635</td>\n    </tr>\n  </tbody>\n</table>\n</div>"
     },
     "metadata": {},
     "execution_count": 4
    }
   ],
   "source": [
    "# Dependencies and Setup\n",
    "import pandas as pd\n",
    "\n",
    "# File to Load (Remember to Change These)\n",
    "school_data_to_load = \"Resources/schools_complete.csv\"\n",
    "student_data_to_load = \"Resources/students_complete.csv\"\n",
    "\n",
    "# Read School and Student Data File and store into Pandas DataFrames\n",
    "school_data = pd.read_csv(school_data_to_load)\n",
    "student_data = pd.read_csv(student_data_to_load)\n",
    "\n",
    "# Combine the data into a single dataset.  \n",
    "school_data_complete = pd.merge(student_data, school_data, how=\"left\", on=[\"school_name\", \"school_name\"])\n",
    "school_data_complete.head()"
   ]
  },
  {
   "cell_type": "markdown",
   "metadata": {},
   "source": [
    "## District Summary\n",
    "\n",
    "* Calculate the total number of schools\n",
    "\n",
    "* Calculate the total number of students\n",
    "\n",
    "* Calculate the total budget\n",
    "\n",
    "* Calculate the average math score \n",
    "\n",
    "* Calculate the average reading score\n",
    "\n",
    "* Calculate the percentage of students with a passing math score (70 or greater)\n",
    "\n",
    "* Calculate the percentage of students with a passing reading score (70 or greater)\n",
    "\n",
    "* Calculate the percentage of students who passed math **and** reading (% Overall Passing)\n",
    "\n",
    "* Create a dataframe to hold the above results\n",
    "\n",
    "* Optional: give the displayed data cleaner formatting"
   ]
  },
  {
   "cell_type": "code",
   "execution_count": 5,
   "metadata": {},
   "outputs": [
    {
     "output_type": "execute_result",
     "data": {
      "text/plain": [
       "   Number_of_Schools Number_of_Students        Total_Budget  \\\n",
       "0                 15             39,170  $82,932,329,558.00   \n",
       "\n",
       "  Average_Math_Score Average_Reading_Score Passing_Math_Percent  \\\n",
       "0             78.99%                81.88%               72.39%   \n",
       "\n",
       "  Passing_Reading_Percent Passing_Percent  \n",
       "0                  82.97%          60.80%  "
      ],
      "text/html": "<div>\n<style scoped>\n    .dataframe tbody tr th:only-of-type {\n        vertical-align: middle;\n    }\n\n    .dataframe tbody tr th {\n        vertical-align: top;\n    }\n\n    .dataframe thead th {\n        text-align: right;\n    }\n</style>\n<table border=\"1\" class=\"dataframe\">\n  <thead>\n    <tr style=\"text-align: right;\">\n      <th></th>\n      <th>Number_of_Schools</th>\n      <th>Number_of_Students</th>\n      <th>Total_Budget</th>\n      <th>Average_Math_Score</th>\n      <th>Average_Reading_Score</th>\n      <th>Passing_Math_Percent</th>\n      <th>Passing_Reading_Percent</th>\n      <th>Passing_Percent</th>\n    </tr>\n  </thead>\n  <tbody>\n    <tr>\n      <th>0</th>\n      <td>15</td>\n      <td>39,170</td>\n      <td>$82,932,329,558.00</td>\n      <td>78.99%</td>\n      <td>81.88%</td>\n      <td>72.39%</td>\n      <td>82.97%</td>\n      <td>60.80%</td>\n    </tr>\n  </tbody>\n</table>\n</div>"
     },
     "metadata": {},
     "execution_count": 5
    }
   ],
   "source": [
    "#Total number of schools\n",
    "schoolGroup = school_data_complete.groupby('school_name')\n",
    "schoolCount = len(schoolGroup)\n",
    "\n",
    "#Total number of students\n",
    "studentGroup = school_data_complete.groupby('Student ID')\n",
    "studentCount = len(studentGroup)\n",
    "\n",
    "#Total budget\n",
    "totalBudget = school_data_complete['budget'].sum()\n",
    "\n",
    "#Average math score\n",
    "avgMathScore = school_data_complete['math_score'].mean()\n",
    "\n",
    "#Average reading score\n",
    "avgReadingScore = school_data_complete['reading_score'].mean()\n",
    "\n",
    "#Percent of student passing math\n",
    "passingMathDF = school_data_complete[school_data_complete['math_score'] > 70]\n",
    "studentsPassingMathCount = len(passingMathDF)\n",
    "studentsPassingMathPercent = studentsPassingMathCount / studentCount * 100\n",
    "\n",
    "#Percent of student passing reading\n",
    "passingReadingDF = school_data_complete[school_data_complete['reading_score'] > 70]\n",
    "studentsPassingReadingCount = len(passingReadingDF)\n",
    "studentsPassingReadingPercent = studentsPassingReadingCount / studentCount * 100\n",
    "\n",
    "#Percent of student passing reading and math\n",
    "passingOverallDF = school_data_complete[(school_data_complete['math_score'] > 70) & (school_data_complete['reading_score'] > 70)]\n",
    "studentsPassingOverallCount = len(passingOverallDF)\n",
    "studentsPassingOverallPercent = studentsPassingOverallCount / studentCount * 100\n",
    "\n",
    "#Create District dummary dataframe with values calculated above\n",
    "districtSummaryDF = pd.DataFrame({\n",
    "                        'Number_of_Schools': [schoolCount],\n",
    "                        'Number_of_Students': [studentCount],\n",
    "                        'Total_Budget': [totalBudget],\n",
    "                        'Average_Math_Score': [avgMathScore],\n",
    "                        'Average_Reading_Score': [avgReadingScore],\n",
    "                        'Passing_Math_Percent': [studentsPassingMathPercent],\n",
    "                        'Passing_Reading_Percent': [studentsPassingReadingPercent],\n",
    "                        'Passing_Percent': [studentsPassingOverallPercent]\n",
    "                    })\n",
    "\n",
    "#Format number in district summary dataframe\n",
    "districtSummaryDF['Number_of_Students'] = districtSummaryDF['Number_of_Students'].map('{:,}'.format)\n",
    "districtSummaryDF['Total_Budget'] = districtSummaryDF['Total_Budget'].map('${:,.2f}'.format)\n",
    "districtSummaryDF['Average_Math_Score'] = districtSummaryDF['Average_Math_Score'].map('{:.2f}%'.format)\n",
    "districtSummaryDF['Average_Reading_Score'] = districtSummaryDF['Average_Reading_Score'].map('{:.2f}%'.format)\n",
    "districtSummaryDF['Passing_Math_Percent'] = districtSummaryDF['Passing_Math_Percent'].map('{:.2f}%'.format)\n",
    "districtSummaryDF['Passing_Reading_Percent'] = districtSummaryDF['Passing_Reading_Percent'].map('{:.2f}%'.format)\n",
    "districtSummaryDF['Passing_Percent'] = districtSummaryDF['Passing_Percent'].map('{:.2f}%'.format)\n",
    "\n",
    "districtSummaryDF"
   ]
  },
  {
   "cell_type": "markdown",
   "metadata": {},
   "source": [
    "## School Summary"
   ]
  },
  {
   "cell_type": "markdown",
   "metadata": {},
   "source": [
    "* Create an overview table that summarizes key metrics about each school, including:\n",
    "  * School Name\n",
    "  * School Type\n",
    "  * Total Students\n",
    "  * Total School Budget\n",
    "  * Per Student Budget\n",
    "  * Average Math Score\n",
    "  * Average Reading Score\n",
    "  * % Passing Math\n",
    "  * % Passing Reading\n",
    "  * % Overall Passing (The percentage of students that passed math **and** reading.)\n",
    "  \n",
    "* Create a dataframe to hold the above results"
   ]
  },
  {
   "cell_type": "code",
   "execution_count": 14,
   "metadata": {},
   "outputs": [
    {
     "output_type": "execute_result",
     "data": {
      "text/plain": [
       "                           type  student_count        total_budget  \\\n",
       "Bailey High School     District           4976  $15,549,641,728.00   \n",
       "Cabrera High School     Charter           1858   $2,009,159,448.00   \n",
       "Figueroa High School   District           2949   $5,557,128,039.00   \n",
       "Ford High School       District           2739   $4,831,365,924.00   \n",
       "Griffin High School     Charter           1468   $1,346,890,000.00   \n",
       "Hernandez High School  District           4635  $14,007,062,700.00   \n",
       "Holden High School      Charter            427     $105,933,149.00   \n",
       "Huang High School      District           2917   $5,573,322,295.00   \n",
       "Johnson High School    District           4761  $14,733,628,650.00   \n",
       "Pena High School        Charter            962     $563,595,396.00   \n",
       "Rodriguez High School  District           3999  $10,186,904,637.00   \n",
       "Shelton High School     Charter           1761   $1,860,672,600.00   \n",
       "Thomas High School      Charter           1635   $1,705,517,550.00   \n",
       "Wilson High School      Charter           2283   $3,012,587,442.00   \n",
       "Wright High School      Charter           1800   $1,888,920,000.00   \n",
       "\n",
       "                      per_student_budget average_math_score  \\\n",
       "Bailey High School         $3,124,928.00             77.0 %   \n",
       "Cabrera High School        $1,081,356.00             83.1 %   \n",
       "Figueroa High School       $1,884,411.00             76.7 %   \n",
       "Ford High School           $1,763,916.00             77.1 %   \n",
       "Griffin High School          $917,500.00             83.4 %   \n",
       "Hernandez High School      $3,022,020.00             77.3 %   \n",
       "Holden High School           $248,087.00             83.8 %   \n",
       "Huang High School          $1,910,635.00             76.6 %   \n",
       "Johnson High School        $3,094,650.00             77.1 %   \n",
       "Pena High School             $585,858.00             83.8 %   \n",
       "Rodriguez High School      $2,547,363.00             76.8 %   \n",
       "Shelton High School        $1,056,600.00             83.4 %   \n",
       "Thomas High School         $1,043,130.00             83.4 %   \n",
       "Wilson High School         $1,319,574.00             83.3 %   \n",
       "Wright High School         $1,049,400.00             83.7 %   \n",
       "\n",
       "                      average_reading_score percent_passing_math  \\\n",
       "Bailey High School                   81.0 %               64.6 %   \n",
       "Cabrera High School                  84.0 %               89.6 %   \n",
       "Figueroa High School                 81.2 %               63.8 %   \n",
       "Ford High School                     80.7 %               65.8 %   \n",
       "Griffin High School                  83.8 %               89.7 %   \n",
       "Hernandez High School                80.9 %               64.7 %   \n",
       "Holden High School                   83.8 %               90.6 %   \n",
       "Huang High School                    81.2 %               63.3 %   \n",
       "Johnson High School                  81.0 %               63.9 %   \n",
       "Pena High School                     84.0 %               91.7 %   \n",
       "Rodriguez High School                80.7 %               64.1 %   \n",
       "Shelton High School                  83.7 %               89.9 %   \n",
       "Thomas High School                   83.8 %               90.2 %   \n",
       "Wilson High School                   84.0 %               90.9 %   \n",
       "Wright High School                   84.0 %               90.3 %   \n",
       "\n",
       "                      percent_passing_reading percent_passing_overall  \n",
       "Bailey High School                     79.3 %                  51.1 %  \n",
       "Cabrera High School                    93.9 %                  84.0 %  \n",
       "Figueroa High School                   78.4 %                  49.9 %  \n",
       "Ford High School                       77.5 %                  51.3 %  \n",
       "Griffin High School                    93.4 %                  83.7 %  \n",
       "Hernandez High School                  78.2 %                  50.2 %  \n",
       "Holden High School                     92.7 %                  84.1 %  \n",
       "Huang High School                      78.8 %                  49.9 %  \n",
       "Johnson High School                    78.3 %                  49.8 %  \n",
       "Pena High School                       92.2 %                  84.8 %  \n",
       "Rodriguez High School                  77.7 %                  49.4 %  \n",
       "Shelton High School                    92.6 %                  83.2 %  \n",
       "Thomas High School                     92.9 %                  84.3 %  \n",
       "Wilson High School                     93.3 %                  84.9 %  \n",
       "Wright High School                     93.4 %                  84.4 %  "
      ],
      "text/html": "<div>\n<style scoped>\n    .dataframe tbody tr th:only-of-type {\n        vertical-align: middle;\n    }\n\n    .dataframe tbody tr th {\n        vertical-align: top;\n    }\n\n    .dataframe thead th {\n        text-align: right;\n    }\n</style>\n<table border=\"1\" class=\"dataframe\">\n  <thead>\n    <tr style=\"text-align: right;\">\n      <th></th>\n      <th>type</th>\n      <th>student_count</th>\n      <th>total_budget</th>\n      <th>per_student_budget</th>\n      <th>average_math_score</th>\n      <th>average_reading_score</th>\n      <th>percent_passing_math</th>\n      <th>percent_passing_reading</th>\n      <th>percent_passing_overall</th>\n    </tr>\n  </thead>\n  <tbody>\n    <tr>\n      <th>Bailey High School</th>\n      <td>District</td>\n      <td>4976</td>\n      <td>$15,549,641,728.00</td>\n      <td>$3,124,928.00</td>\n      <td>77.0 %</td>\n      <td>81.0 %</td>\n      <td>64.6 %</td>\n      <td>79.3 %</td>\n      <td>51.1 %</td>\n    </tr>\n    <tr>\n      <th>Cabrera High School</th>\n      <td>Charter</td>\n      <td>1858</td>\n      <td>$2,009,159,448.00</td>\n      <td>$1,081,356.00</td>\n      <td>83.1 %</td>\n      <td>84.0 %</td>\n      <td>89.6 %</td>\n      <td>93.9 %</td>\n      <td>84.0 %</td>\n    </tr>\n    <tr>\n      <th>Figueroa High School</th>\n      <td>District</td>\n      <td>2949</td>\n      <td>$5,557,128,039.00</td>\n      <td>$1,884,411.00</td>\n      <td>76.7 %</td>\n      <td>81.2 %</td>\n      <td>63.8 %</td>\n      <td>78.4 %</td>\n      <td>49.9 %</td>\n    </tr>\n    <tr>\n      <th>Ford High School</th>\n      <td>District</td>\n      <td>2739</td>\n      <td>$4,831,365,924.00</td>\n      <td>$1,763,916.00</td>\n      <td>77.1 %</td>\n      <td>80.7 %</td>\n      <td>65.8 %</td>\n      <td>77.5 %</td>\n      <td>51.3 %</td>\n    </tr>\n    <tr>\n      <th>Griffin High School</th>\n      <td>Charter</td>\n      <td>1468</td>\n      <td>$1,346,890,000.00</td>\n      <td>$917,500.00</td>\n      <td>83.4 %</td>\n      <td>83.8 %</td>\n      <td>89.7 %</td>\n      <td>93.4 %</td>\n      <td>83.7 %</td>\n    </tr>\n    <tr>\n      <th>Hernandez High School</th>\n      <td>District</td>\n      <td>4635</td>\n      <td>$14,007,062,700.00</td>\n      <td>$3,022,020.00</td>\n      <td>77.3 %</td>\n      <td>80.9 %</td>\n      <td>64.7 %</td>\n      <td>78.2 %</td>\n      <td>50.2 %</td>\n    </tr>\n    <tr>\n      <th>Holden High School</th>\n      <td>Charter</td>\n      <td>427</td>\n      <td>$105,933,149.00</td>\n      <td>$248,087.00</td>\n      <td>83.8 %</td>\n      <td>83.8 %</td>\n      <td>90.6 %</td>\n      <td>92.7 %</td>\n      <td>84.1 %</td>\n    </tr>\n    <tr>\n      <th>Huang High School</th>\n      <td>District</td>\n      <td>2917</td>\n      <td>$5,573,322,295.00</td>\n      <td>$1,910,635.00</td>\n      <td>76.6 %</td>\n      <td>81.2 %</td>\n      <td>63.3 %</td>\n      <td>78.8 %</td>\n      <td>49.9 %</td>\n    </tr>\n    <tr>\n      <th>Johnson High School</th>\n      <td>District</td>\n      <td>4761</td>\n      <td>$14,733,628,650.00</td>\n      <td>$3,094,650.00</td>\n      <td>77.1 %</td>\n      <td>81.0 %</td>\n      <td>63.9 %</td>\n      <td>78.3 %</td>\n      <td>49.8 %</td>\n    </tr>\n    <tr>\n      <th>Pena High School</th>\n      <td>Charter</td>\n      <td>962</td>\n      <td>$563,595,396.00</td>\n      <td>$585,858.00</td>\n      <td>83.8 %</td>\n      <td>84.0 %</td>\n      <td>91.7 %</td>\n      <td>92.2 %</td>\n      <td>84.8 %</td>\n    </tr>\n    <tr>\n      <th>Rodriguez High School</th>\n      <td>District</td>\n      <td>3999</td>\n      <td>$10,186,904,637.00</td>\n      <td>$2,547,363.00</td>\n      <td>76.8 %</td>\n      <td>80.7 %</td>\n      <td>64.1 %</td>\n      <td>77.7 %</td>\n      <td>49.4 %</td>\n    </tr>\n    <tr>\n      <th>Shelton High School</th>\n      <td>Charter</td>\n      <td>1761</td>\n      <td>$1,860,672,600.00</td>\n      <td>$1,056,600.00</td>\n      <td>83.4 %</td>\n      <td>83.7 %</td>\n      <td>89.9 %</td>\n      <td>92.6 %</td>\n      <td>83.2 %</td>\n    </tr>\n    <tr>\n      <th>Thomas High School</th>\n      <td>Charter</td>\n      <td>1635</td>\n      <td>$1,705,517,550.00</td>\n      <td>$1,043,130.00</td>\n      <td>83.4 %</td>\n      <td>83.8 %</td>\n      <td>90.2 %</td>\n      <td>92.9 %</td>\n      <td>84.3 %</td>\n    </tr>\n    <tr>\n      <th>Wilson High School</th>\n      <td>Charter</td>\n      <td>2283</td>\n      <td>$3,012,587,442.00</td>\n      <td>$1,319,574.00</td>\n      <td>83.3 %</td>\n      <td>84.0 %</td>\n      <td>90.9 %</td>\n      <td>93.3 %</td>\n      <td>84.9 %</td>\n    </tr>\n    <tr>\n      <th>Wright High School</th>\n      <td>Charter</td>\n      <td>1800</td>\n      <td>$1,888,920,000.00</td>\n      <td>$1,049,400.00</td>\n      <td>83.7 %</td>\n      <td>84.0 %</td>\n      <td>90.3 %</td>\n      <td>93.4 %</td>\n      <td>84.4 %</td>\n    </tr>\n  </tbody>\n</table>\n</div>"
     },
     "metadata": {},
     "execution_count": 14
    }
   ],
   "source": [
    "#create series of school types\n",
    "schoolTypeDF = school_data_complete[['school_name', 'type']].drop_duplicates()\n",
    "schoolTypes = pd.Series(schoolTypeDF['type'].values, schoolTypeDF['school_name'].values)\n",
    "\n",
    "#create data frames of only passing students\n",
    "passingMathDF = school_data_complete[school_data_complete['math_score'] > 70]\n",
    "passingReadingDF = school_data_complete[school_data_complete['reading_score'] > 70]\n",
    "passingOverallDF = school_data_complete[(school_data_complete['math_score'] > 70) & (school_data_complete['reading_score'] > 70)]\n",
    "\n",
    "#group data by school\n",
    "schoolSummaryGroup = school_data_complete.groupby('school_name')\n",
    "passingMathSchoolSummaryGroup = passingMathDF.groupby('school_name')\n",
    "passingReadingSchoolSummaryGroup = passingReadingDF.groupby('school_name')\n",
    "passingOverallSchoolSummaryGroup = passingOverallDF.groupby('school_name')\n",
    "\n",
    "#find passing student counts by school\n",
    "passingMathStudentCountBySchool = passingMathSchoolSummaryGroup['Student ID'].count()\n",
    "passingReadingStudentCountBySchool = passingReadingSchoolSummaryGroup['Student ID'].count()\n",
    "passingOverallStudentCountBySchool = passingOverallSchoolSummaryGroup['Student ID'].count()\n",
    "\n",
    "#find student count, total budget, mean scores, budget per student, passing percentages by school\n",
    "studentCountBySchool = schoolSummaryGroup['Student ID'].count()\n",
    "budgetSumBySchool = schoolSummaryGroup['budget'].sum()\n",
    "mathScoreMeanBySchool = schoolSummaryGroup['math_score'].mean()\n",
    "readingScoreMeanBySchool = schoolSummaryGroup['reading_score'].mean()\n",
    "perStudentBudgetBySchool = budgetSumBySchool / studentCountBySchool\n",
    "percentPassingMathBySchool = passingMathStudentCountBySchool / studentCountBySchool\n",
    "percentPassingReadingBySchool = passingReadingStudentCountBySchool / studentCountBySchool\n",
    "percentPassingOverallBySchool = passingOverallStudentCountBySchool / studentCountBySchool\n",
    "\n",
    "# create school dataframe with school data (formatting included)\n",
    "schoolSummaryDF = pd.DataFrame({\n",
    "                    'type': schoolTypes,\n",
    "                    'student_count': studentCountBySchool, \n",
    "                    'total_budget': budgetSumBySchool, \n",
    "                    'per_student_budget': perStudentBudgetBySchool,\n",
    "                    'average_math_score': mathScoreMeanBySchool, \n",
    "                    'average_reading_score': readingScoreMeanBySchool,\n",
    "                    'percent_passing_math': percentPassingMathBySchool,\n",
    "                    'percent_passing_reading': percentPassingReadingBySchool,\n",
    "                    'percent_passing_overall': percentPassingOverallBySchool\n",
    "                })\n",
    "\n",
    "#Format number in school summary dataframe\n",
    "formattedSchoolSummaryDF = pd.DataFrame({\n",
    "                    'type': schoolSummaryDF['type'],\n",
    "                    'student_count': schoolSummaryDF['student_count'], \n",
    "                    'total_budget': schoolSummaryDF['total_budget'].map('${:,.2f}'.format), \n",
    "                    'per_student_budget': schoolSummaryDF['per_student_budget'].map('${:,.2f}'.format),\n",
    "                    'average_math_score': schoolSummaryDF['average_math_score'].map('{:.1f} %'.format), \n",
    "                    'average_reading_score': schoolSummaryDF['average_reading_score'].map('{:.1f} %'.format),\n",
    "                    'percent_passing_math': schoolSummaryDF['percent_passing_math'].multiply(100).map('{:.1f} %'.format),\n",
    "                    'percent_passing_reading': schoolSummaryDF['percent_passing_reading'].multiply(100).map('{:.1f} %'.format),\n",
    "                    'percent_passing_overall': schoolSummaryDF['percent_passing_overall'].multiply(100).map('{:.1f} %'.format)\n",
    "\n",
    "\n",
    "                })\n",
    "\n",
    "formattedSchoolSummaryDF"
   ]
  },
  {
   "cell_type": "markdown",
   "metadata": {},
   "source": [
    "## Top Performing Schools (By % Overall Passing)"
   ]
  },
  {
   "cell_type": "markdown",
   "metadata": {},
   "source": [
    "* Sort and display the top five performing schools by % overall passing."
   ]
  },
  {
   "cell_type": "code",
   "execution_count": 15,
   "metadata": {
    "scrolled": true
   },
   "outputs": [
    {
     "output_type": "execute_result",
     "data": {
      "text/plain": [
       "                       type  student_count       total_budget  \\\n",
       "Wilson High School  Charter           2283  $3,012,587,442.00   \n",
       "Pena High School    Charter            962    $563,595,396.00   \n",
       "Wright High School  Charter           1800  $1,888,920,000.00   \n",
       "Thomas High School  Charter           1635  $1,705,517,550.00   \n",
       "Holden High School  Charter            427    $105,933,149.00   \n",
       "\n",
       "                   per_student_budget average_math_score  \\\n",
       "Wilson High School      $1,319,574.00             83.3 %   \n",
       "Pena High School          $585,858.00             83.8 %   \n",
       "Wright High School      $1,049,400.00             83.7 %   \n",
       "Thomas High School      $1,043,130.00             83.4 %   \n",
       "Holden High School        $248,087.00             83.8 %   \n",
       "\n",
       "                   average_reading_score percent_passing_math  \\\n",
       "Wilson High School                84.0 %               90.9 %   \n",
       "Pena High School                  84.0 %               91.7 %   \n",
       "Wright High School                84.0 %               90.3 %   \n",
       "Thomas High School                83.8 %               90.2 %   \n",
       "Holden High School                83.8 %               90.6 %   \n",
       "\n",
       "                   percent_passing_reading percent_passing_overall  \n",
       "Wilson High School                  93.3 %                  84.9 %  \n",
       "Pena High School                    92.2 %                  84.8 %  \n",
       "Wright High School                  93.4 %                  84.4 %  \n",
       "Thomas High School                  92.9 %                  84.3 %  \n",
       "Holden High School                  92.7 %                  84.1 %  "
      ],
      "text/html": "<div>\n<style scoped>\n    .dataframe tbody tr th:only-of-type {\n        vertical-align: middle;\n    }\n\n    .dataframe tbody tr th {\n        vertical-align: top;\n    }\n\n    .dataframe thead th {\n        text-align: right;\n    }\n</style>\n<table border=\"1\" class=\"dataframe\">\n  <thead>\n    <tr style=\"text-align: right;\">\n      <th></th>\n      <th>type</th>\n      <th>student_count</th>\n      <th>total_budget</th>\n      <th>per_student_budget</th>\n      <th>average_math_score</th>\n      <th>average_reading_score</th>\n      <th>percent_passing_math</th>\n      <th>percent_passing_reading</th>\n      <th>percent_passing_overall</th>\n    </tr>\n  </thead>\n  <tbody>\n    <tr>\n      <th>Wilson High School</th>\n      <td>Charter</td>\n      <td>2283</td>\n      <td>$3,012,587,442.00</td>\n      <td>$1,319,574.00</td>\n      <td>83.3 %</td>\n      <td>84.0 %</td>\n      <td>90.9 %</td>\n      <td>93.3 %</td>\n      <td>84.9 %</td>\n    </tr>\n    <tr>\n      <th>Pena High School</th>\n      <td>Charter</td>\n      <td>962</td>\n      <td>$563,595,396.00</td>\n      <td>$585,858.00</td>\n      <td>83.8 %</td>\n      <td>84.0 %</td>\n      <td>91.7 %</td>\n      <td>92.2 %</td>\n      <td>84.8 %</td>\n    </tr>\n    <tr>\n      <th>Wright High School</th>\n      <td>Charter</td>\n      <td>1800</td>\n      <td>$1,888,920,000.00</td>\n      <td>$1,049,400.00</td>\n      <td>83.7 %</td>\n      <td>84.0 %</td>\n      <td>90.3 %</td>\n      <td>93.4 %</td>\n      <td>84.4 %</td>\n    </tr>\n    <tr>\n      <th>Thomas High School</th>\n      <td>Charter</td>\n      <td>1635</td>\n      <td>$1,705,517,550.00</td>\n      <td>$1,043,130.00</td>\n      <td>83.4 %</td>\n      <td>83.8 %</td>\n      <td>90.2 %</td>\n      <td>92.9 %</td>\n      <td>84.3 %</td>\n    </tr>\n    <tr>\n      <th>Holden High School</th>\n      <td>Charter</td>\n      <td>427</td>\n      <td>$105,933,149.00</td>\n      <td>$248,087.00</td>\n      <td>83.8 %</td>\n      <td>83.8 %</td>\n      <td>90.6 %</td>\n      <td>92.7 %</td>\n      <td>84.1 %</td>\n    </tr>\n  </tbody>\n</table>\n</div>"
     },
     "metadata": {},
     "execution_count": 15
    }
   ],
   "source": [
    "topPassingSchoolSummaryDF = formattedSchoolSummaryDF.sort_values(['percent_passing_overall'], ascending = False).head()\n",
    "topPassingSchoolSummaryDF"
   ]
  },
  {
   "cell_type": "markdown",
   "metadata": {},
   "source": [
    "## Bottom Performing Schools (By % Overall Passing)"
   ]
  },
  {
   "cell_type": "markdown",
   "metadata": {},
   "source": [
    "* Sort and display the five worst-performing schools by % overall passing."
   ]
  },
  {
   "cell_type": "code",
   "execution_count": 16,
   "metadata": {},
   "outputs": [
    {
     "output_type": "execute_result",
     "data": {
      "text/plain": [
       "                           type  student_count        total_budget  \\\n",
       "Rodriguez High School  District           3999  $10,186,904,637.00   \n",
       "Johnson High School    District           4761  $14,733,628,650.00   \n",
       "Figueroa High School   District           2949   $5,557,128,039.00   \n",
       "Huang High School      District           2917   $5,573,322,295.00   \n",
       "Hernandez High School  District           4635  $14,007,062,700.00   \n",
       "\n",
       "                      per_student_budget average_math_score  \\\n",
       "Rodriguez High School      $2,547,363.00             76.8 %   \n",
       "Johnson High School        $3,094,650.00             77.1 %   \n",
       "Figueroa High School       $1,884,411.00             76.7 %   \n",
       "Huang High School          $1,910,635.00             76.6 %   \n",
       "Hernandez High School      $3,022,020.00             77.3 %   \n",
       "\n",
       "                      average_reading_score percent_passing_math  \\\n",
       "Rodriguez High School                80.7 %               64.1 %   \n",
       "Johnson High School                  81.0 %               63.9 %   \n",
       "Figueroa High School                 81.2 %               63.8 %   \n",
       "Huang High School                    81.2 %               63.3 %   \n",
       "Hernandez High School                80.9 %               64.7 %   \n",
       "\n",
       "                      percent_passing_reading percent_passing_overall  \n",
       "Rodriguez High School                  77.7 %                  49.4 %  \n",
       "Johnson High School                    78.3 %                  49.8 %  \n",
       "Figueroa High School                   78.4 %                  49.9 %  \n",
       "Huang High School                      78.8 %                  49.9 %  \n",
       "Hernandez High School                  78.2 %                  50.2 %  "
      ],
      "text/html": "<div>\n<style scoped>\n    .dataframe tbody tr th:only-of-type {\n        vertical-align: middle;\n    }\n\n    .dataframe tbody tr th {\n        vertical-align: top;\n    }\n\n    .dataframe thead th {\n        text-align: right;\n    }\n</style>\n<table border=\"1\" class=\"dataframe\">\n  <thead>\n    <tr style=\"text-align: right;\">\n      <th></th>\n      <th>type</th>\n      <th>student_count</th>\n      <th>total_budget</th>\n      <th>per_student_budget</th>\n      <th>average_math_score</th>\n      <th>average_reading_score</th>\n      <th>percent_passing_math</th>\n      <th>percent_passing_reading</th>\n      <th>percent_passing_overall</th>\n    </tr>\n  </thead>\n  <tbody>\n    <tr>\n      <th>Rodriguez High School</th>\n      <td>District</td>\n      <td>3999</td>\n      <td>$10,186,904,637.00</td>\n      <td>$2,547,363.00</td>\n      <td>76.8 %</td>\n      <td>80.7 %</td>\n      <td>64.1 %</td>\n      <td>77.7 %</td>\n      <td>49.4 %</td>\n    </tr>\n    <tr>\n      <th>Johnson High School</th>\n      <td>District</td>\n      <td>4761</td>\n      <td>$14,733,628,650.00</td>\n      <td>$3,094,650.00</td>\n      <td>77.1 %</td>\n      <td>81.0 %</td>\n      <td>63.9 %</td>\n      <td>78.3 %</td>\n      <td>49.8 %</td>\n    </tr>\n    <tr>\n      <th>Figueroa High School</th>\n      <td>District</td>\n      <td>2949</td>\n      <td>$5,557,128,039.00</td>\n      <td>$1,884,411.00</td>\n      <td>76.7 %</td>\n      <td>81.2 %</td>\n      <td>63.8 %</td>\n      <td>78.4 %</td>\n      <td>49.9 %</td>\n    </tr>\n    <tr>\n      <th>Huang High School</th>\n      <td>District</td>\n      <td>2917</td>\n      <td>$5,573,322,295.00</td>\n      <td>$1,910,635.00</td>\n      <td>76.6 %</td>\n      <td>81.2 %</td>\n      <td>63.3 %</td>\n      <td>78.8 %</td>\n      <td>49.9 %</td>\n    </tr>\n    <tr>\n      <th>Hernandez High School</th>\n      <td>District</td>\n      <td>4635</td>\n      <td>$14,007,062,700.00</td>\n      <td>$3,022,020.00</td>\n      <td>77.3 %</td>\n      <td>80.9 %</td>\n      <td>64.7 %</td>\n      <td>78.2 %</td>\n      <td>50.2 %</td>\n    </tr>\n  </tbody>\n</table>\n</div>"
     },
     "metadata": {},
     "execution_count": 16
    }
   ],
   "source": [
    "bottomPassingSchoolSummaryDF = formattedSchoolSummaryDF.sort_values(['percent_passing_overall'], ascending = True).head()\n",
    "bottomPassingSchoolSummaryDF"
   ]
  },
  {
   "cell_type": "markdown",
   "metadata": {
    "collapsed": true
   },
   "source": [
    "## Math Scores by Grade"
   ]
  },
  {
   "cell_type": "markdown",
   "metadata": {},
   "source": [
    "* Create a table that lists the average Reading Score for students of each grade level (9th, 10th, 11th, 12th) at each school.\n",
    "\n",
    "  * Create a pandas series for each grade. Hint: use a conditional statement.\n",
    "  \n",
    "  * Group each series by school\n",
    "  \n",
    "  * Combine the series into a dataframe\n",
    "  \n",
    "  * Optional: give the displayed data cleaner formatting"
   ]
  },
  {
   "cell_type": "code",
   "execution_count": 17,
   "metadata": {},
   "outputs": [
    {
     "output_type": "execute_result",
     "data": {
      "text/plain": [
       "                      9th_grade 10th_grade 11th_grade 12th_grade\n",
       "school_name                                                     \n",
       "Bailey High School       77.1 %     77.0 %     77.5 %     76.5 %\n",
       "Cabrera High School      83.1 %     83.2 %     82.8 %     83.3 %\n",
       "Figueroa High School     76.4 %     76.5 %     76.9 %     77.2 %\n",
       "Ford High School         77.4 %     77.7 %     76.9 %     76.2 %\n",
       "Griffin High School      82.0 %     84.2 %     83.8 %     83.4 %\n",
       "Hernandez High School    77.4 %     77.3 %     77.1 %     77.2 %\n",
       "Holden High School       83.8 %     83.4 %     85.0 %     82.9 %\n",
       "Huang High School        77.0 %     75.9 %     76.4 %     77.2 %\n",
       "Johnson High School      77.2 %     76.7 %     77.5 %     76.9 %\n",
       "Pena High School         83.6 %     83.4 %     84.3 %     84.1 %\n",
       "Rodriguez High School    76.9 %     76.6 %     76.4 %     77.7 %\n",
       "Shelton High School      83.4 %     82.9 %     83.4 %     83.8 %\n",
       "Thomas High School       83.6 %     83.1 %     83.5 %     83.5 %\n",
       "Wilson High School       83.1 %     83.7 %     83.2 %     83.0 %\n",
       "Wright High School       83.3 %     84.0 %     83.8 %     83.6 %"
      ],
      "text/html": "<div>\n<style scoped>\n    .dataframe tbody tr th:only-of-type {\n        vertical-align: middle;\n    }\n\n    .dataframe tbody tr th {\n        vertical-align: top;\n    }\n\n    .dataframe thead th {\n        text-align: right;\n    }\n</style>\n<table border=\"1\" class=\"dataframe\">\n  <thead>\n    <tr style=\"text-align: right;\">\n      <th></th>\n      <th>9th_grade</th>\n      <th>10th_grade</th>\n      <th>11th_grade</th>\n      <th>12th_grade</th>\n    </tr>\n    <tr>\n      <th>school_name</th>\n      <th></th>\n      <th></th>\n      <th></th>\n      <th></th>\n    </tr>\n  </thead>\n  <tbody>\n    <tr>\n      <th>Bailey High School</th>\n      <td>77.1 %</td>\n      <td>77.0 %</td>\n      <td>77.5 %</td>\n      <td>76.5 %</td>\n    </tr>\n    <tr>\n      <th>Cabrera High School</th>\n      <td>83.1 %</td>\n      <td>83.2 %</td>\n      <td>82.8 %</td>\n      <td>83.3 %</td>\n    </tr>\n    <tr>\n      <th>Figueroa High School</th>\n      <td>76.4 %</td>\n      <td>76.5 %</td>\n      <td>76.9 %</td>\n      <td>77.2 %</td>\n    </tr>\n    <tr>\n      <th>Ford High School</th>\n      <td>77.4 %</td>\n      <td>77.7 %</td>\n      <td>76.9 %</td>\n      <td>76.2 %</td>\n    </tr>\n    <tr>\n      <th>Griffin High School</th>\n      <td>82.0 %</td>\n      <td>84.2 %</td>\n      <td>83.8 %</td>\n      <td>83.4 %</td>\n    </tr>\n    <tr>\n      <th>Hernandez High School</th>\n      <td>77.4 %</td>\n      <td>77.3 %</td>\n      <td>77.1 %</td>\n      <td>77.2 %</td>\n    </tr>\n    <tr>\n      <th>Holden High School</th>\n      <td>83.8 %</td>\n      <td>83.4 %</td>\n      <td>85.0 %</td>\n      <td>82.9 %</td>\n    </tr>\n    <tr>\n      <th>Huang High School</th>\n      <td>77.0 %</td>\n      <td>75.9 %</td>\n      <td>76.4 %</td>\n      <td>77.2 %</td>\n    </tr>\n    <tr>\n      <th>Johnson High School</th>\n      <td>77.2 %</td>\n      <td>76.7 %</td>\n      <td>77.5 %</td>\n      <td>76.9 %</td>\n    </tr>\n    <tr>\n      <th>Pena High School</th>\n      <td>83.6 %</td>\n      <td>83.4 %</td>\n      <td>84.3 %</td>\n      <td>84.1 %</td>\n    </tr>\n    <tr>\n      <th>Rodriguez High School</th>\n      <td>76.9 %</td>\n      <td>76.6 %</td>\n      <td>76.4 %</td>\n      <td>77.7 %</td>\n    </tr>\n    <tr>\n      <th>Shelton High School</th>\n      <td>83.4 %</td>\n      <td>82.9 %</td>\n      <td>83.4 %</td>\n      <td>83.8 %</td>\n    </tr>\n    <tr>\n      <th>Thomas High School</th>\n      <td>83.6 %</td>\n      <td>83.1 %</td>\n      <td>83.5 %</td>\n      <td>83.5 %</td>\n    </tr>\n    <tr>\n      <th>Wilson High School</th>\n      <td>83.1 %</td>\n      <td>83.7 %</td>\n      <td>83.2 %</td>\n      <td>83.0 %</td>\n    </tr>\n    <tr>\n      <th>Wright High School</th>\n      <td>83.3 %</td>\n      <td>84.0 %</td>\n      <td>83.8 %</td>\n      <td>83.6 %</td>\n    </tr>\n  </tbody>\n</table>\n</div>"
     },
     "metadata": {},
     "execution_count": 17
    }
   ],
   "source": [
    "#create math score series for each grade\n",
    "ninthGradeDF = school_data_complete[school_data_complete['grade'] == '9th']\n",
    "ninthGradeMathScoreSeries = ninthGradeDF.groupby('school_name')['math_score'].mean()\n",
    "\n",
    "tenthGradeDF = school_data_complete[school_data_complete['grade'] == '10th']\n",
    "tenthGradeMathScoreSeries = tenthGradeDF.groupby('school_name')['math_score'].mean()\n",
    "\n",
    "eleventhGradeDF = school_data_complete[school_data_complete['grade'] == '11th']\n",
    "eleventhGradeMathScoreSeries = eleventhGradeDF.groupby('school_name')['math_score'].mean()\n",
    "\n",
    "twelfthGradeDF = school_data_complete[school_data_complete['grade'] == '12th']\n",
    "twelfthGradeMathScoreSeries = twelfthGradeDF.groupby('school_name')['math_score'].mean()\n",
    "\n",
    "#combine series for each grade into a table to hold all grades\n",
    "gradeMathScoresBySchool = pd.DataFrame({\n",
    "                             '9th_grade': ninthGradeMathScoreSeries.map(\"{:,.1f} %\".format),\n",
    "                             '10th_grade': tenthGradeMathScoreSeries.map(\"{:,.1f} %\".format),\n",
    "                             '11th_grade': eleventhGradeMathScoreSeries.map(\"{:,.1f} %\".format),\n",
    "                             '12th_grade': twelfthGradeMathScoreSeries.map(\"{:,.1f} %\".format),\n",
    "                            })\n",
    "gradeMathScoresBySchool"
   ]
  },
  {
   "cell_type": "markdown",
   "metadata": {},
   "source": [
    "## Reading Score by Grade "
   ]
  },
  {
   "cell_type": "markdown",
   "metadata": {},
   "source": [
    "* Perform the same operations as above for reading scores"
   ]
  },
  {
   "cell_type": "code",
   "execution_count": 18,
   "metadata": {},
   "outputs": [
    {
     "output_type": "execute_result",
     "data": {
      "text/plain": [
       "                      9th_grade 10th_grade 11th_grade 12th_grade\n",
       "school_name                                                     \n",
       "Bailey High School       81.3 %     80.9 %     80.9 %     80.9 %\n",
       "Cabrera High School      83.7 %     84.3 %     83.8 %     84.3 %\n",
       "Figueroa High School     81.2 %     81.4 %     80.6 %     81.4 %\n",
       "Ford High School         80.6 %     81.3 %     80.4 %     80.7 %\n",
       "Griffin High School      83.4 %     83.7 %     84.3 %     84.0 %\n",
       "Hernandez High School    80.9 %     80.7 %     81.4 %     80.9 %\n",
       "Holden High School       83.7 %     83.3 %     83.8 %     84.7 %\n",
       "Huang High School        81.3 %     81.5 %     81.4 %     80.3 %\n",
       "Johnson High School      81.3 %     80.8 %     80.6 %     81.2 %\n",
       "Pena High School         83.8 %     83.6 %     84.3 %     84.6 %\n",
       "Rodriguez High School    81.0 %     80.6 %     80.9 %     80.4 %\n",
       "Shelton High School      84.1 %     83.4 %     84.4 %     82.8 %\n",
       "Thomas High School       83.7 %     84.3 %     83.6 %     83.8 %\n",
       "Wilson High School       83.9 %     84.0 %     83.8 %     84.3 %\n",
       "Wright High School       83.8 %     83.8 %     84.2 %     84.1 %"
      ],
      "text/html": "<div>\n<style scoped>\n    .dataframe tbody tr th:only-of-type {\n        vertical-align: middle;\n    }\n\n    .dataframe tbody tr th {\n        vertical-align: top;\n    }\n\n    .dataframe thead th {\n        text-align: right;\n    }\n</style>\n<table border=\"1\" class=\"dataframe\">\n  <thead>\n    <tr style=\"text-align: right;\">\n      <th></th>\n      <th>9th_grade</th>\n      <th>10th_grade</th>\n      <th>11th_grade</th>\n      <th>12th_grade</th>\n    </tr>\n    <tr>\n      <th>school_name</th>\n      <th></th>\n      <th></th>\n      <th></th>\n      <th></th>\n    </tr>\n  </thead>\n  <tbody>\n    <tr>\n      <th>Bailey High School</th>\n      <td>81.3 %</td>\n      <td>80.9 %</td>\n      <td>80.9 %</td>\n      <td>80.9 %</td>\n    </tr>\n    <tr>\n      <th>Cabrera High School</th>\n      <td>83.7 %</td>\n      <td>84.3 %</td>\n      <td>83.8 %</td>\n      <td>84.3 %</td>\n    </tr>\n    <tr>\n      <th>Figueroa High School</th>\n      <td>81.2 %</td>\n      <td>81.4 %</td>\n      <td>80.6 %</td>\n      <td>81.4 %</td>\n    </tr>\n    <tr>\n      <th>Ford High School</th>\n      <td>80.6 %</td>\n      <td>81.3 %</td>\n      <td>80.4 %</td>\n      <td>80.7 %</td>\n    </tr>\n    <tr>\n      <th>Griffin High School</th>\n      <td>83.4 %</td>\n      <td>83.7 %</td>\n      <td>84.3 %</td>\n      <td>84.0 %</td>\n    </tr>\n    <tr>\n      <th>Hernandez High School</th>\n      <td>80.9 %</td>\n      <td>80.7 %</td>\n      <td>81.4 %</td>\n      <td>80.9 %</td>\n    </tr>\n    <tr>\n      <th>Holden High School</th>\n      <td>83.7 %</td>\n      <td>83.3 %</td>\n      <td>83.8 %</td>\n      <td>84.7 %</td>\n    </tr>\n    <tr>\n      <th>Huang High School</th>\n      <td>81.3 %</td>\n      <td>81.5 %</td>\n      <td>81.4 %</td>\n      <td>80.3 %</td>\n    </tr>\n    <tr>\n      <th>Johnson High School</th>\n      <td>81.3 %</td>\n      <td>80.8 %</td>\n      <td>80.6 %</td>\n      <td>81.2 %</td>\n    </tr>\n    <tr>\n      <th>Pena High School</th>\n      <td>83.8 %</td>\n      <td>83.6 %</td>\n      <td>84.3 %</td>\n      <td>84.6 %</td>\n    </tr>\n    <tr>\n      <th>Rodriguez High School</th>\n      <td>81.0 %</td>\n      <td>80.6 %</td>\n      <td>80.9 %</td>\n      <td>80.4 %</td>\n    </tr>\n    <tr>\n      <th>Shelton High School</th>\n      <td>84.1 %</td>\n      <td>83.4 %</td>\n      <td>84.4 %</td>\n      <td>82.8 %</td>\n    </tr>\n    <tr>\n      <th>Thomas High School</th>\n      <td>83.7 %</td>\n      <td>84.3 %</td>\n      <td>83.6 %</td>\n      <td>83.8 %</td>\n    </tr>\n    <tr>\n      <th>Wilson High School</th>\n      <td>83.9 %</td>\n      <td>84.0 %</td>\n      <td>83.8 %</td>\n      <td>84.3 %</td>\n    </tr>\n    <tr>\n      <th>Wright High School</th>\n      <td>83.8 %</td>\n      <td>83.8 %</td>\n      <td>84.2 %</td>\n      <td>84.1 %</td>\n    </tr>\n  </tbody>\n</table>\n</div>"
     },
     "metadata": {},
     "execution_count": 18
    }
   ],
   "source": [
    "#create math score series for each grade\n",
    "ninthGradeReadingScoreSeries = ninthGradeDF.groupby('school_name')['reading_score'].mean()\n",
    "\n",
    "tenthGradeReadingScoreSeries = tenthGradeDF.groupby('school_name')['reading_score'].mean()\n",
    "\n",
    "eleventhGradeReadingScoreSeries = eleventhGradeDF.groupby('school_name')['reading_score'].mean()\n",
    "\n",
    "twelfthGradeReadingScoreSeries = twelfthGradeDF.groupby('school_name')['reading_score'].mean()\n",
    "\n",
    "#combine series for each grade into a table to hold all grades with formatting\n",
    "gradeReadingScoresBySchool = pd.DataFrame({\n",
    "                             '9th_grade': ninthGradeReadingScoreSeries.map(\"{:,.1f} %\".format),\n",
    "                             '10th_grade': tenthGradeReadingScoreSeries.map(\"{:,.1f} %\".format),\n",
    "                             '11th_grade': eleventhGradeReadingScoreSeries.map(\"{:,.1f} %\".format),\n",
    "                             '12th_grade': twelfthGradeReadingScoreSeries.map(\"{:,.1f} %\".format),\n",
    "                            })\n",
    "gradeReadingScoresBySchool"
   ]
  },
  {
   "cell_type": "markdown",
   "metadata": {},
   "source": [
    "## Scores by School Spending"
   ]
  },
  {
   "cell_type": "markdown",
   "metadata": {},
   "source": [
    "* Create a table that breaks down school performances based on average Spending Ranges (Per Student). Use 4 reasonable bins to group school spending. Include in the table each of the following:\n",
    "  * Average Math Score\n",
    "  * Average Reading Score\n",
    "  * % Passing Math\n",
    "  * % Passing Reading\n",
    "  * Overall Passing Rate (Average of the above two)"
   ]
  },
  {
   "cell_type": "code",
   "execution_count": 42,
   "metadata": {},
   "outputs": [
    {
     "output_type": "execute_result",
     "data": {
      "text/plain": [
       "                         average_math_score average_reading_score  \\\n",
       "<$1,000,000                          83.7 %                83.9 %   \n",
       "$1,000,000 to $2,000,000             80.9 %                82.8 %   \n",
       "$2,000,000 to $3,000,000             76.8 %                80.7 %   \n",
       ">$5,000,000                          77.1 %                81.0 %   \n",
       "\n",
       "                         percent_passing_math percent_passing_reading  \\\n",
       "<$1,000,000                            90.7 %                  92.8 %   \n",
       "$1,000,000 to $2,000,000               80.5 %                  87.6 %   \n",
       "$2,000,000 to $3,000,000               64.1 %                  77.7 %   \n",
       ">$5,000,000                            64.4 %                  78.6 %   \n",
       "\n",
       "                         percent_passing_overall  \n",
       "<$1,000,000                               84.2 %  \n",
       "$1,000,000 to $2,000,000                  71.5 %  \n",
       "$2,000,000 to $3,000,000                  49.4 %  \n",
       ">$5,000,000                               50.4 %  "
      ],
      "text/html": "<div>\n<style scoped>\n    .dataframe tbody tr th:only-of-type {\n        vertical-align: middle;\n    }\n\n    .dataframe tbody tr th {\n        vertical-align: top;\n    }\n\n    .dataframe thead th {\n        text-align: right;\n    }\n</style>\n<table border=\"1\" class=\"dataframe\">\n  <thead>\n    <tr style=\"text-align: right;\">\n      <th></th>\n      <th>average_math_score</th>\n      <th>average_reading_score</th>\n      <th>percent_passing_math</th>\n      <th>percent_passing_reading</th>\n      <th>percent_passing_overall</th>\n    </tr>\n  </thead>\n  <tbody>\n    <tr>\n      <th>&lt;$1,000,000</th>\n      <td>83.7 %</td>\n      <td>83.9 %</td>\n      <td>90.7 %</td>\n      <td>92.8 %</td>\n      <td>84.2 %</td>\n    </tr>\n    <tr>\n      <th>$1,000,000 to $2,000,000</th>\n      <td>80.9 %</td>\n      <td>82.8 %</td>\n      <td>80.5 %</td>\n      <td>87.6 %</td>\n      <td>71.5 %</td>\n    </tr>\n    <tr>\n      <th>$2,000,000 to $3,000,000</th>\n      <td>76.8 %</td>\n      <td>80.7 %</td>\n      <td>64.1 %</td>\n      <td>77.7 %</td>\n      <td>49.4 %</td>\n    </tr>\n    <tr>\n      <th>&gt;$5,000,000</th>\n      <td>77.1 %</td>\n      <td>81.0 %</td>\n      <td>64.4 %</td>\n      <td>78.6 %</td>\n      <td>50.4 %</td>\n    </tr>\n  </tbody>\n</table>\n</div>"
     },
     "metadata": {},
     "execution_count": 42
    }
   ],
   "source": [
    "\n",
    "#find maximum budget (needs to be included in histogram)\n",
    "maxPerStudentBudget = max(schoolSummaryDF['per_student_budget'])\n",
    "\n",
    "#group by 4 budget bins from zero to the up to, and including, the maximum budget\n",
    "studentBudgetBinGroup = schoolSummaryDF.groupby(pd.cut(schoolSummaryDF['per_student_budget'],[0, 1000000, 2000000, 3000000, maxPerStudentBudget + 1], right = False))\n",
    "\n",
    "#find mean scores within bins\n",
    "mathScoreMeanByBudgetBin = studentBudgetBinGroup['average_math_score'].mean()\n",
    "readingScoreMeanByBudgetBin = studentBudgetBinGroup['average_reading_score'].mean()\n",
    "mathScorePercentPassByBudgetBin = studentBudgetBinGroup['percent_passing_math'].mean()\n",
    "readingScorePercentPassByBudgetBin = studentBudgetBinGroup['percent_passing_reading'].mean()\n",
    "overallScorePercentPassByBudgetBin = studentBudgetBinGroup['percent_passing_overall'].mean()\n",
    "\n",
    "#write dataframe to hold scores in bins\n",
    "budgetBinDF = pd.DataFrame({\n",
    "                'average_math_score': mathScoreMeanByBudgetBin.map(\"{:,.1f} %\".format),\n",
    "                'average_reading_score': readingScoreMeanByBudgetBin.map(\"{:,.1f} %\".format),\n",
    "                'percent_passing_math': mathScorePercentPassByBudgetBin.multiply(100).map(\"{:,.1f} %\".format),\n",
    "                'percent_passing_reading': readingScorePercentPassByBudgetBin.multiply(100).map(\"{:,.1f} %\".format),\n",
    "                'percent_passing_overall': overallScorePercentPassByBudgetBin.multiply(100).map(\"{:,.1f} %\".format),\n",
    "                })\n",
    "\n",
    "#rename bins for visibility\n",
    "budgetBinDF.index = ['<$1,000,000', '$1,000,000 to $2,000,000', '$2,000,000 to $3,000,000', '>$5,000,000']\n",
    "budgetBinDF"
   ]
  },
  {
   "cell_type": "markdown",
   "metadata": {},
   "source": [
    "## Scores by School Size"
   ]
  },
  {
   "cell_type": "markdown",
   "metadata": {},
   "source": [
    "* Perform the same operations as above, based on school size."
   ]
  },
  {
   "cell_type": "code",
   "execution_count": 43,
   "metadata": {
    "scrolled": true
   },
   "outputs": [
    {
     "output_type": "execute_result",
     "data": {
      "text/plain": [
       "               average_math_score average_reading_score percent_passing_math  \\\n",
       "<1,250                     83.8 %                83.9 %               91.2 %   \n",
       "1,250 to 2,500             83.4 %                83.9 %               90.1 %   \n",
       "2,500 to 3,750             76.8 %                81.0 %               64.3 %   \n",
       ">3,750                     77.1 %                80.9 %               64.3 %   \n",
       "\n",
       "               percent_passing_reading percent_passing_overall  \n",
       "<1,250                          92.5 %                  84.4 %  \n",
       "1,250 to 2,500                  93.2 %                  84.1 %  \n",
       "2,500 to 3,750                  78.3 %                  50.4 %  \n",
       ">3,750                          78.4 %                  50.1 %  "
      ],
      "text/html": "<div>\n<style scoped>\n    .dataframe tbody tr th:only-of-type {\n        vertical-align: middle;\n    }\n\n    .dataframe tbody tr th {\n        vertical-align: top;\n    }\n\n    .dataframe thead th {\n        text-align: right;\n    }\n</style>\n<table border=\"1\" class=\"dataframe\">\n  <thead>\n    <tr style=\"text-align: right;\">\n      <th></th>\n      <th>average_math_score</th>\n      <th>average_reading_score</th>\n      <th>percent_passing_math</th>\n      <th>percent_passing_reading</th>\n      <th>percent_passing_overall</th>\n    </tr>\n  </thead>\n  <tbody>\n    <tr>\n      <th>&lt;1,250</th>\n      <td>83.8 %</td>\n      <td>83.9 %</td>\n      <td>91.2 %</td>\n      <td>92.5 %</td>\n      <td>84.4 %</td>\n    </tr>\n    <tr>\n      <th>1,250 to 2,500</th>\n      <td>83.4 %</td>\n      <td>83.9 %</td>\n      <td>90.1 %</td>\n      <td>93.2 %</td>\n      <td>84.1 %</td>\n    </tr>\n    <tr>\n      <th>2,500 to 3,750</th>\n      <td>76.8 %</td>\n      <td>81.0 %</td>\n      <td>64.3 %</td>\n      <td>78.3 %</td>\n      <td>50.4 %</td>\n    </tr>\n    <tr>\n      <th>&gt;3,750</th>\n      <td>77.1 %</td>\n      <td>80.9 %</td>\n      <td>64.3 %</td>\n      <td>78.4 %</td>\n      <td>50.1 %</td>\n    </tr>\n  </tbody>\n</table>\n</div>"
     },
     "metadata": {},
     "execution_count": 43
    }
   ],
   "source": [
    "#find maximum budget (needs to be included in histogram)\n",
    "maxStudentCount = max(schoolSummaryDF['student_count'])\n",
    "\n",
    "#group by 4 studentCount bins from zero to the up to, and including, the maximum budget\n",
    "studentCountBinGroup = schoolSummaryDF.groupby(pd.cut(schoolSummaryDF['student_count'],[0, 1250, 2500, 3750, maxStudentCount + 1], right = False))\n",
    "\n",
    "#find mean scores within bins\n",
    "mathScoreMeanByStudentCountBin = studentCountBinGroup['average_math_score'].mean()\n",
    "readingScoreMeanByStudentCountBin = studentCountBinGroup['average_reading_score'].mean()\n",
    "mathScorePercentPassByStudentCountBin = studentCountBinGroup['percent_passing_math'].mean()\n",
    "readingScorePercentPassByStudentCountBin = studentCountBinGroup['percent_passing_reading'].mean()\n",
    "overallScorePercentPassByStudentCountBin = studentCountBinGroup['percent_passing_overall'].mean()\n",
    "\n",
    "#write dataframe to hold scores in bins\n",
    "studentCountBinDF = pd.DataFrame({\n",
    "                'average_math_score': mathScoreMeanByStudentCountBin.map(\"{:,.1f} %\".format),\n",
    "                'average_reading_score': readingScoreMeanByStudentCountBin.map(\"{:,.1f} %\".format),\n",
    "                'percent_passing_math': mathScorePercentPassByStudentCountBin.multiply(100).map(\"{:,.1f} %\".format),\n",
    "                'percent_passing_reading': readingScorePercentPassByStudentCountBin.multiply(100).map(\"{:,.1f} %\".format),\n",
    "                'percent_passing_overall': overallScorePercentPassByStudentCountBin.multiply(100).map(\"{:,.1f} %\".format),\n",
    "                })\n",
    "\n",
    "#rename bins for visibility\n",
    "studentCountBinDF.index = ['<1,250', '1,250 to 2,500', '2,500 to 3,750', '>3,750']\n",
    "studentCountBinDF"
   ]
  },
  {
   "cell_type": "markdown",
   "metadata": {},
   "source": [
    "## Scores by School Type"
   ]
  },
  {
   "cell_type": "markdown",
   "metadata": {},
   "source": [
    "* Perform the same operations as above, based on school type"
   ]
  },
  {
   "cell_type": "code",
   "execution_count": 44,
   "metadata": {},
   "outputs": [
    {
     "output_type": "execute_result",
     "data": {
      "text/plain": [
       "         average_math_score average_reading_score percent_passing_math  \\\n",
       "type                                                                     \n",
       "Charter              83.5 %                83.9 %               90.4 %   \n",
       "District             77.0 %                81.0 %               64.3 %   \n",
       "\n",
       "         percent_passing_reading percent_passing_overall  \n",
       "type                                                      \n",
       "Charter                   93.1 %                  84.2 %  \n",
       "District                  78.3 %                  50.2 %  "
      ],
      "text/html": "<div>\n<style scoped>\n    .dataframe tbody tr th:only-of-type {\n        vertical-align: middle;\n    }\n\n    .dataframe tbody tr th {\n        vertical-align: top;\n    }\n\n    .dataframe thead th {\n        text-align: right;\n    }\n</style>\n<table border=\"1\" class=\"dataframe\">\n  <thead>\n    <tr style=\"text-align: right;\">\n      <th></th>\n      <th>average_math_score</th>\n      <th>average_reading_score</th>\n      <th>percent_passing_math</th>\n      <th>percent_passing_reading</th>\n      <th>percent_passing_overall</th>\n    </tr>\n    <tr>\n      <th>type</th>\n      <th></th>\n      <th></th>\n      <th></th>\n      <th></th>\n      <th></th>\n    </tr>\n  </thead>\n  <tbody>\n    <tr>\n      <th>Charter</th>\n      <td>83.5 %</td>\n      <td>83.9 %</td>\n      <td>90.4 %</td>\n      <td>93.1 %</td>\n      <td>84.2 %</td>\n    </tr>\n    <tr>\n      <th>District</th>\n      <td>77.0 %</td>\n      <td>81.0 %</td>\n      <td>64.3 %</td>\n      <td>78.3 %</td>\n      <td>50.2 %</td>\n    </tr>\n  </tbody>\n</table>\n</div>"
     },
     "metadata": {},
     "execution_count": 44
    }
   ],
   "source": [
    "#group records by school type\n",
    "typeGroup = schoolSummaryDF.groupby('type')\n",
    "\n",
    "#find mean score for each school type\n",
    "mathScoreMeanByType = typeGroup['average_math_score'].mean()\n",
    "readingScoreMeanByType = typeGroup['average_reading_score'].mean()\n",
    "mathScorePercentPassByType = typeGroup['percent_passing_math'].mean()\n",
    "readingScorePercentPassByType = typeGroup['percent_passing_reading'].mean()\n",
    "overallScorePercentPassByType = typeGroup['percent_passing_overall'].mean()\n",
    "\n",
    "#create data frame to hold mean scores by school type\n",
    "typeDF = pd.DataFrame({\n",
    "                'average_math_score': mathScoreMeanByType.map(\"{:,.1f} %\".format),\n",
    "                'average_reading_score': readingScoreMeanByType.map(\"{:,.1f} %\".format),\n",
    "                'percent_passing_math': mathScorePercentPassByType.multiply(100).map(\"{:,.1f} %\".format),\n",
    "                'percent_passing_reading': readingScorePercentPassByType.multiply(100).map(\"{:,.1f} %\".format),\n",
    "                'percent_passing_overall': overallScorePercentPassByType.multiply(100).map(\"{:,.1f} %\".format),\n",
    "                })\n",
    "typeDF"
   ]
  },
  {
   "cell_type": "code",
   "execution_count": null,
   "metadata": {},
   "outputs": [],
   "source": []
  }
 ],
 "metadata": {
  "anaconda-cloud": {},
  "kernel_info": {
   "name": "python3"
  },
  "kernelspec": {
   "display_name": "Python 3",
   "language": "python",
   "name": "python3"
  },
  "language_info": {
   "codemirror_mode": {
    "name": "ipython",
    "version": 3
   },
   "file_extension": ".py",
   "mimetype": "text/x-python",
   "name": "python",
   "nbconvert_exporter": "python",
   "pygments_lexer": "ipython3",
   "version": "3.8.3-final"
  },
  "latex_envs": {
   "LaTeX_envs_menu_present": true,
   "autoclose": false,
   "autocomplete": true,
   "bibliofile": "biblio.bib",
   "cite_by": "apalike",
   "current_citInitial": 1,
   "eqLabelWithNumbers": true,
   "eqNumInitial": 1,
   "hotkeys": {
    "equation": "Ctrl-E",
    "itemize": "Ctrl-I"
   },
   "labels_anchors": false,
   "latex_user_defs": false,
   "report_style_numbering": false,
   "user_envs_cfg": false
  },
  "nteract": {
   "version": "0.8.4"
  }
 },
 "nbformat": 4,
 "nbformat_minor": 1
}